{
  "nbformat": 4,
  "nbformat_minor": 0,
  "metadata": {
    "colab": {
      "private_outputs": true,
      "provenance": [],
      "machine_shape": "hm",
      "gpuType": "T4",
      "authorship_tag": "ABX9TyMcfK0t0vMs4Ns5LIg2PiXu",
      "include_colab_link": true
    },
    "kernelspec": {
      "name": "python3",
      "display_name": "Python 3"
    },
    "language_info": {
      "name": "python"
    },
    "accelerator": "GPU"
  },
  "cells": [
    {
      "cell_type": "markdown",
      "metadata": {
        "id": "view-in-github",
        "colab_type": "text"
      },
      "source": [
        "<a href=\"https://colab.research.google.com/github/RafaelGallo/LLM/blob/main/LLM__Gemma_cluster_sentimento.ipynb\" target=\"_parent\"><img src=\"https://colab.research.google.com/assets/colab-badge.svg\" alt=\"Open In Colab\"/></a>"
      ]
    },
    {
      "cell_type": "code",
      "execution_count": null,
      "metadata": {
        "id": "te4vJHoQQly9"
      },
      "outputs": [],
      "source": [
        "# Instalando pacotes\n",
        "!pip install -U keras-nlp\n",
        "!pip install -U keras"
      ]
    },
    {
      "cell_type": "code",
      "source": [
        "!pip install tensorflow-gpu"
      ],
      "metadata": {
        "id": "7jlQkhy-TBYi"
      },
      "execution_count": null,
      "outputs": []
    },
    {
      "cell_type": "code",
      "source": [
        "# Tipo GPU\n",
        "!nvidia-smi"
      ],
      "metadata": {
        "id": "CQUOvMo5SMXd"
      },
      "execution_count": null,
      "outputs": []
    },
    {
      "cell_type": "code",
      "source": [
        "# Versão GPU\n",
        "!nvcc --version"
      ],
      "metadata": {
        "id": "UL-uGMiCSQSd"
      },
      "execution_count": null,
      "outputs": []
    },
    {
      "cell_type": "code",
      "source": [
        "# Versão keras tensorflow\n",
        "import tensorflow as tf\n",
        "print(\"Versão tensorflow:\", tf.__version__)\n",
        "\n",
        "import keras\n",
        "print(\"Versão keras:\", keras.__version__)"
      ],
      "metadata": {
        "id": "Rp7XOQa5SWNB"
      },
      "execution_count": null,
      "outputs": []
    },
    {
      "cell_type": "code",
      "source": [
        "# Importando biblioteca\n",
        "import numpy as np\n",
        "import matplotlib.pyplot as plt\n",
        "import tensorflow as tf\n",
        "from sklearn.feature_extraction.text import TfidfVectorizer\n",
        "from sklearn.cluster import KMeans\n",
        "from sklearn.metrics import silhouette_score\n",
        "from tensorflow.keras.layers import Input, LSTM, Dense\n",
        "from tensorflow.keras.models import Model"
      ],
      "metadata": {
        "id": "jGMqtruDQpTI"
      },
      "execution_count": null,
      "outputs": []
    },
    {
      "cell_type": "code",
      "source": [
        "## Base dados\n",
        "\n",
        "# Dados de exemplo\n",
        "sentences = [\n",
        "             \"Eu amo este filme, é ótimo!\",\n",
        "             \"Que livro chato, não consegui terminar de ler\",\n",
        "             \"Esta comida é deliciosa\",\n",
        "             \"O serviço neste restaurante é terrível\",\n",
        "             \"Que bela vista!\",\n",
        "             \"Este produto é de péssima qualidade\"\n",
        "             ]\n",
        "\n",
        "# Rótulos de exemplo (sentimentos positivos ou negativos)\n",
        "labels = np.array([1, 0, 1, 0, 1, 0])"
      ],
      "metadata": {
        "id": "8ouh9PfzShSa"
      },
      "execution_count": null,
      "outputs": []
    },
    {
      "cell_type": "code",
      "source": [
        "# Pré-processamento dos dados\n",
        "vectorizer = TfidfVectorizer()\n",
        "\n",
        "# Treinamento modelo\n",
        "X = vectorizer.fit_transform(sentences).toarray()"
      ],
      "metadata": {
        "id": "KNcxtxSPSnEV"
      },
      "execution_count": null,
      "outputs": []
    },
    {
      "cell_type": "code",
      "source": [
        "# Adicionando uma dimensão de tempo para os dados de entrada\n",
        "X = np.expand_dims(X, axis=1)"
      ],
      "metadata": {
        "id": "n-HVygrwTmpj"
      },
      "execution_count": null,
      "outputs": []
    },
    {
      "cell_type": "code",
      "source": [
        "# Modelo LLM\n",
        "class LLM_Clustering:\n",
        "    def __init__(self, input_dim, hidden_units, num_clusters):\n",
        "        self.input_dim = input_dim\n",
        "        self.hidden_units = hidden_units\n",
        "        self.num_clusters = num_clusters\n",
        "\n",
        "        # Criação do modelo LSTM\n",
        "        inputs = Input(shape=(None, input_dim))\n",
        "        lstm_layer = LSTM(hidden_units)\n",
        "        lstm_output = lstm_layer(inputs)\n",
        "        output_layer = Dense(num_clusters, activation='softmax')\n",
        "        outputs = output_layer(lstm_output)\n",
        "\n",
        "        # Definição do modelo\n",
        "        self.model = Model(inputs=inputs, outputs=outputs)\n",
        "\n",
        "        # Compilação do modelo\n",
        "        self.model.compile(optimizer='adam', loss='categorical_crossentropy', metrics=['accuracy'])\n",
        "\n",
        "    def train(self, X, y, batch_size, epochs):\n",
        "        self.model.fit(X, y, batch_size=batch_size, epochs=epochs, validation_split=0.2)\n",
        "\n",
        "    def predict(self, X):\n",
        "        return self.model.predict(X)"
      ],
      "metadata": {
        "id": "5sZUTz6GRk9H"
      },
      "execution_count": null,
      "outputs": []
    },
    {
      "cell_type": "code",
      "source": [
        "# Método do cotovelo para encontrar o número ideal de clusters\n",
        "inertia_values = []\n",
        "max_clusters = min(len(sentences) - 1, 9)  # Limitar o número máximo de clusters ao número de amostras menos 1\n",
        "for num_clusters in range(2, max_clusters + 1):  # Começar a partir de 2 clusters\n",
        "    kmeans = KMeans(n_clusters=num_clusters)\n",
        "    kmeans.fit(embeddings)\n",
        "    inertia_values.append(kmeans.inertia_)\n",
        "\n",
        "# Plotar o gráfico de cotovelo\n",
        "plt.plot(range(2, max_clusters + 1), inertia_values, marker='o')\n",
        "plt.title('Método do Cotovelo')\n",
        "plt.xlabel('Número de Clusters')\n",
        "plt.ylabel('Inércia')\n",
        "plt.show()\n"
      ],
      "metadata": {
        "id": "Y--4slM1TyPn"
      },
      "execution_count": null,
      "outputs": []
    },
    {
      "cell_type": "code",
      "source": [
        "# Treinamento do modelo LLM para classificação de sentimentos\n",
        "input_dim = X.shape[1]\n",
        "hidden_units = 64\n",
        "\n",
        "# Número de clusters\n",
        "num_clusters = 2"
      ],
      "metadata": {
        "id": "I1ofcbciSvIe"
      },
      "execution_count": null,
      "outputs": []
    },
    {
      "cell_type": "code",
      "source": [
        "# Modelo LLM\n",
        "llm_model = LLM_Clustering(X.shape[2], hidden_units, num_clusters)"
      ],
      "metadata": {
        "id": "6fi9vpXBUhfe"
      },
      "execution_count": null,
      "outputs": []
    },
    {
      "cell_type": "code",
      "source": [
        "# Treinamento modelo\n",
        "model_llm = llm_model.train(X,\n",
        "                            tf.keras.utils.to_categorical(labels),\n",
        "                            batch_size=32,\n",
        "                            epochs=20)"
      ],
      "metadata": {
        "id": "rpx0Za7lRnfw"
      },
      "execution_count": null,
      "outputs": []
    },
    {
      "cell_type": "code",
      "source": [
        "# Obtenção dos embeddings usando o modelo LLM\n",
        "embeddings = llm_model.predict(X)"
      ],
      "metadata": {
        "id": "pZAyZj8cT5QF"
      },
      "execution_count": null,
      "outputs": []
    },
    {
      "cell_type": "code",
      "source": [
        "# Clusterização usando K-Means nos embeddings do modelo LSTM\n",
        "kmeans = KMeans(n_clusters=num_clusters)\n",
        "kmeans.fit(embeddings)"
      ],
      "metadata": {
        "id": "b2x8aLLjT6en"
      },
      "execution_count": null,
      "outputs": []
    },
    {
      "cell_type": "code",
      "source": [
        "# Imprimir os rótulos dos clusters e o número de clusters únicos\n",
        "print(\"Rótulos dos Clusters:\", kmeans.labels_)\n",
        "print(\"Número de Clusters Únicos:\", num_clusters)"
      ],
      "metadata": {
        "id": "hk9s7a_RUNWp"
      },
      "execution_count": null,
      "outputs": []
    },
    {
      "cell_type": "code",
      "source": [
        "# Avaliação da qualidade da clusterização\n",
        "num_clusters = len(np.unique(kmeans.labels_))\n",
        "if num_clusters > 1:\n",
        "    silhouette_avg = silhouette_score(embeddings, kmeans.labels_)\n",
        "    print(\"Silhouette Score:\", silhouette_avg)\n",
        "else:\n",
        "    print(\"Não é possível calcular o escore de silhueta com apenas um cluster.\")\n"
      ],
      "metadata": {
        "id": "Ort3-x5VR4Z1"
      },
      "execution_count": null,
      "outputs": []
    },
    {
      "cell_type": "code",
      "source": [
        "# Análise dos resultados\n",
        "for i in range(num_clusters):\n",
        "    cluster_sentences = np.array(sentences)[kmeans.labels_ == i]\n",
        "    print(\"Cluster\", i, \":\", cluster_sentences)"
      ],
      "metadata": {
        "id": "Cw_6uaGmTxHG"
      },
      "execution_count": null,
      "outputs": []
    },
    {
      "cell_type": "code",
      "source": [
        "# Mapeamento dos rótulos de cluster para sentimentos\n",
        "sentiment_labels = ['Positivo', 'Negativo', 'Neutro']  # Defina os rótulos de acordo com sua análise de sentimentos\n",
        "\n",
        "# Número ideal de clusters (definido manualmente ou usando o método do cotovelo)\n",
        "num_clusters = 3\n",
        "\n",
        "# Clusterização usando K-Means com o número ideal de clusters\n",
        "kmeans = KMeans(n_clusters=num_clusters)\n",
        "kmeans.fit(embeddings)\n",
        "cluster_labels = kmeans.labels_\n",
        "\n",
        "# Plotar os clusters\n",
        "plt.figure(figsize=(8, 6))\n",
        "for cluster in range(num_clusters):\n",
        "    cluster_sentences = np.array(sentences)[cluster_labels == cluster]\n",
        "    plt.scatter(embeddings[cluster_labels == cluster, 0], embeddings[cluster_labels == cluster, 1], label=sentiment_labels[cluster])\n",
        "plt.title('Clusterização modelo LLM - Gemma')\n",
        "plt.xlabel('Dimensão 1')\n",
        "plt.ylabel('Dimensão 2')\n",
        "plt.legend()\n",
        "plt.show()\n"
      ],
      "metadata": {
        "id": "IMbJb3BmUahU"
      },
      "execution_count": null,
      "outputs": []
    }
  ]
}