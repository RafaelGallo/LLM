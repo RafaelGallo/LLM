{
  "nbformat": 4,
  "nbformat_minor": 0,
  "metadata": {
    "colab": {
      "private_outputs": true,
      "provenance": [],
      "machine_shape": "hm",
      "authorship_tag": "ABX9TyOH+aL44F81DRAvpR1UVuJQ",
      "include_colab_link": true
    },
    "kernelspec": {
      "name": "python3",
      "display_name": "Python 3"
    },
    "language_info": {
      "name": "python"
    }
  },
  "cells": [
    {
      "cell_type": "markdown",
      "metadata": {
        "id": "view-in-github",
        "colab_type": "text"
      },
      "source": [
        "<a href=\"https://colab.research.google.com/github/RafaelGallo/LLM/blob/main/LLM_Cluster_Kmeans.ipynb\" target=\"_parent\"><img src=\"https://colab.research.google.com/assets/colab-badge.svg\" alt=\"Open In Colab\"/></a>"
      ]
    },
    {
      "cell_type": "markdown",
      "source": [
        "# **Modelo 1 - KMEANS**"
      ],
      "metadata": {
        "id": "suDqDU2_IoiZ"
      }
    },
    {
      "cell_type": "code",
      "source": [
        "from sklearn.feature_extraction.text import TfidfVectorizer\n",
        "from sklearn.metrics import silhouette_score\n",
        "from sklearn.cluster import KMeans\n",
        "import pandas as pd\n",
        "import matplotlib.pyplot as plt\n",
        "import seaborn as sns\n",
        "import numpy as np"
      ],
      "metadata": {
        "id": "ArxD4t6aJRx9"
      },
      "execution_count": null,
      "outputs": []
    },
    {
      "cell_type": "code",
      "source": [
        "# Carregar dados de exemplo\n",
        "data = [\n",
        "    \"O céu está azul.\",\n",
        "    \"O sol está brilhando.\",\n",
        "    \"As flores estão florescendo.\",\n",
        "    \"Estou aprendendo sobre clusterização de dados.\",\n",
        "    \"A programação é divertida.\",\n",
        "    \"Python é uma linguagem de programação popular.\",\n",
        "]"
      ],
      "metadata": {
        "id": "L3WFXJB9IyaL"
      },
      "execution_count": null,
      "outputs": []
    },
    {
      "cell_type": "code",
      "source": [
        "# Vetorização das palavras usando TfidfVectorizer\n",
        "vectorizer = TfidfVectorizer()\n",
        "X = vectorizer.fit_transform(data)"
      ],
      "metadata": {
        "id": "iS-wb9BfJR1b"
      },
      "execution_count": null,
      "outputs": []
    },
    {
      "cell_type": "code",
      "source": [
        "# Aplicando o algoritmo K-means\n",
        "num_clusters = 3\n",
        "kmeans = KMeans(n_clusters=num_clusters)\n",
        "kmeans.fit(X)"
      ],
      "metadata": {
        "id": "_PL4FpTxIydS"
      },
      "execution_count": null,
      "outputs": []
    },
    {
      "cell_type": "code",
      "source": [
        "# Examinando os clusters\n",
        "print(\"Palavras agrupadas por cluster:\")\n",
        "for i in range(num_clusters):\n",
        "    cluster_words = []\n",
        "    for j in range(len(data)):\n",
        "        if kmeans.labels_[j] == i:\n",
        "            cluster_words.append(data[j])\n",
        "    print(f\"Cluster {i+1}: {cluster_words}\")"
      ],
      "metadata": {
        "id": "kTJNZjedIygK"
      },
      "execution_count": null,
      "outputs": []
    },
    {
      "cell_type": "code",
      "source": [
        "from sklearn.decomposition import TruncatedSVD\n",
        "\n",
        "# Reduzindo a dimensionalidade dos dados para visualização\n",
        "lsa = TruncatedSVD(n_components=2)\n",
        "\n",
        "# Treinamento modelo\n",
        "X_reduced = lsa.fit_transform(X)\n",
        "\n",
        "# Visualizando modelo\n",
        "lsa"
      ],
      "metadata": {
        "id": "ywTMi6yyIyi4"
      },
      "execution_count": null,
      "outputs": []
    },
    {
      "cell_type": "code",
      "source": [
        "# Plotando os clusters\n",
        "plt.figure(figsize=(8, 6))\n",
        "colors = ['b', 'g', 'r', 'c', 'm', 'y', 'k']\n",
        "for i in range(num_clusters):\n",
        "    cluster_points = X_reduced[kmeans.labels_ == i]\n",
        "    plt.scatter(cluster_points[:, 0], cluster_points[:, 1], c=colors[i], label=f'Cluster {i+1}')\n",
        "\n",
        "plt.title('Clusters de Palavras - Kmeans')\n",
        "plt.xlabel('Componente 1')\n",
        "plt.ylabel('Componente 2')\n",
        "plt.grid(False)\n",
        "plt.legend()\n",
        "plt.show()"
      ],
      "metadata": {
        "id": "l4DX9MYoIyli"
      },
      "execution_count": null,
      "outputs": []
    },
    {
      "cell_type": "markdown",
      "source": [
        "# **Modelo 2 - LLM EleutherAI/gpt-neo-1.3B**"
      ],
      "metadata": {
        "id": "Fr5oo-BXI18W"
      }
    },
    {
      "cell_type": "code",
      "source": [
        "import torch\n",
        "from transformers import AutoTokenizer, AutoModel\n",
        "from sklearn.cluster import KMeans\n",
        "from sklearn.decomposition import PCA\n",
        "import numpy as np\n",
        "import pandas as pd\n",
        "from sklearn.metrics import silhouette_score\n",
        "import matplotlib.pyplot as plt\n",
        "\n",
        "import logging\n",
        "from transformers import pipeline"
      ],
      "metadata": {
        "id": "f8vH4FH--TVH"
      },
      "execution_count": null,
      "outputs": []
    },
    {
      "cell_type": "code",
      "source": [
        "# Configuração do logger para exibir apenas as mensagens de nível 'error'\n",
        "logging.getLogger().setLevel(logging.ERROR)"
      ],
      "metadata": {
        "id": "eMyR7UUpFtJ0"
      },
      "execution_count": null,
      "outputs": []
    },
    {
      "cell_type": "code",
      "source": [
        "# Carregar o modelo e o tokenizador\n",
        "# Substitua pelo modelo de sua escolha\n",
        "\n",
        "# Modelo LLM\n",
        "model_name = \"EleutherAI/gpt-neo-1.3B\""
      ],
      "metadata": {
        "id": "w6tk_xfcIwmF"
      },
      "execution_count": null,
      "outputs": []
    },
    {
      "cell_type": "code",
      "source": [
        "# Tokenização\n",
        "tokenizer = AutoTokenizer.from_pretrained(model_name)\n",
        "\n",
        "# Adicionar token de padding\n",
        "tokenizer.add_special_tokens({'pad_token': '[PAD]'})\n",
        "\n",
        "# Modelo\n",
        "model = AutoModel.from_pretrained(model_name)"
      ],
      "metadata": {
        "id": "jlotB8Ot-XIX"
      },
      "execution_count": null,
      "outputs": []
    },
    {
      "cell_type": "code",
      "source": [
        "# Carregar dados de exemplo\n",
        "data = [\n",
        "    \"O céu está azul.\",\n",
        "    \"O sol está brilhando.\",\n",
        "    \"As flores estão florescendo.\",\n",
        "    \"Estou aprendendo sobre clusterização de dados.\",\n",
        "    \"A programação é divertida.\",\n",
        "    \"Python é uma linguagem de programação popular.\",\n",
        "]\n"
      ],
      "metadata": {
        "id": "OaxRKJmq-cb1"
      },
      "execution_count": null,
      "outputs": []
    },
    {
      "cell_type": "code",
      "source": [
        "# Obter embeddings para os dados\n",
        "embeddings = []\n",
        "for text in data:\n",
        "    inputs = tokenizer(text, return_tensors=\"pt\", padding=True, truncation=True)\n",
        "    with torch.no_grad():\n",
        "        outputs = model(**inputs)\n",
        "    embeddings.append(outputs.last_hidden_state.mean(dim=1).squeeze().numpy())\n",
        "\n",
        "# Convertendo embeddings para um formato aceitável para o método fit\n",
        "embeddings = np.array(embeddings)"
      ],
      "metadata": {
        "id": "ixoyeQCV-lJ2"
      },
      "execution_count": null,
      "outputs": []
    },
    {
      "cell_type": "code",
      "source": [
        "# Encontrando o valor K\n",
        "\n",
        "# Importando biblioteca\n",
        "from yellowbrick.cluster import KElbowVisualizer\n",
        "\n",
        "# Use o método do cotovelo para encontrar o valor de K ideal\n",
        "visualizer = KElbowVisualizer(KMeans(), k=(2,6))\n",
        "visualizer.fit(embeddings)\n",
        "visualizer.show()"
      ],
      "metadata": {
        "id": "ydwqqGuWJLSo"
      },
      "execution_count": null,
      "outputs": []
    },
    {
      "cell_type": "code",
      "source": [
        "# Análise de Sentimento\n",
        "classifier = pipeline('sentiment-analysis')\n",
        "sentimentos = classifier(\"embeddings\")\n",
        "\n",
        "# Visualizando os sentimentos LLM\n",
        "sentimentos"
      ],
      "metadata": {
        "id": "Srayo3tYF-mT"
      },
      "execution_count": null,
      "outputs": []
    },
    {
      "cell_type": "code",
      "source": [
        "# Realizar a clusterização com k-means\n",
        "\n",
        "# Número de clusters\n",
        "k = 3\n",
        "\n",
        "# Modelo Kmeans\n",
        "kmeans = KMeans(n_clusters=k)\n",
        "\n",
        "# Treinamento modelo\n",
        "kmeans.fit(embeddings)"
      ],
      "metadata": {
        "id": "UKczdHX5J6tm"
      },
      "execution_count": null,
      "outputs": []
    },
    {
      "cell_type": "code",
      "source": [
        "# Labels kmeans\n",
        "labels = kmeans.labels_"
      ],
      "metadata": {
        "id": "c6dQ4EhFKFRS"
      },
      "execution_count": null,
      "outputs": []
    },
    {
      "cell_type": "code",
      "source": [
        "# Agrupar os comentários nos clusters\n",
        "comentarios_clustered = pd.DataFrame(kmeans.predict(embeddings), columns=['Cluster'])\n",
        "comentarios_clustered.head()"
      ],
      "metadata": {
        "id": "KPSBwO5bKOv8"
      },
      "execution_count": null,
      "outputs": []
    },
    {
      "cell_type": "code",
      "source": [
        "# Exibir os resultados\n",
        "print(\"Comentários agrupados por cluster:\")\n",
        "print(comentarios_clustered)"
      ],
      "metadata": {
        "id": "j1YPIt-uKO0I"
      },
      "execution_count": null,
      "outputs": []
    },
    {
      "cell_type": "code",
      "source": [
        "# Avaliar a qualidade dos clusters\n",
        "silhouette_avg = silhouette_score(embeddings, kmeans.labels_)\n",
        "print(\"\\n Silhouette Score: %.2f\" % silhouette_avg)"
      ],
      "metadata": {
        "id": "xER9B7KnKO3F"
      },
      "execution_count": null,
      "outputs": []
    },
    {
      "cell_type": "code",
      "source": [
        "# Reduzir a dimensionalidade para visualização\n",
        "pca = PCA(n_components=2)\n",
        "embeddings_2d = pca.fit_transform(embeddings)\n",
        "\n",
        "# Visualizando modelo PCA\n",
        "pca"
      ],
      "metadata": {
        "id": "1T7dcIIoGBvC"
      },
      "execution_count": null,
      "outputs": []
    },
    {
      "cell_type": "code",
      "source": [
        "# Plotar os clusters\n",
        "colors = ['r', 'g', 'b', 'y', 'c', 'm']  # Cores para os clusters\n",
        "for i in range(len(data)):\n",
        "    plt.scatter(embeddings_2d[i, 0],\n",
        "                embeddings_2d[i, 1],\n",
        "                color=colors[labels[i]],\n",
        "                label=f'Cluster {labels[i]}')\n",
        "\n",
        "plt.title('Clusters - LLM EleutherAI/gpt-neo-1.3B')\n",
        "plt.xlabel('Componente Principal 1')\n",
        "plt.ylabel('Componente Principal 2')\n",
        "plt.legend()\n",
        "plt.show()"
      ],
      "metadata": {
        "id": "YgZTdZw6IR1K"
      },
      "execution_count": null,
      "outputs": []
    },
    {
      "cell_type": "markdown",
      "source": [
        "## **3) LLM modelo Google - BERT Análise de sentimento**"
      ],
      "metadata": {
        "id": "N5_l6uOV_2pX"
      }
    },
    {
      "cell_type": "code",
      "source": [
        "from transformers import BertTokenizer, BertModel\n",
        "from torch.nn import functional as F\n",
        "import torch"
      ],
      "metadata": {
        "id": "bsLBYlQU_-Ve"
      },
      "execution_count": null,
      "outputs": []
    },
    {
      "cell_type": "code",
      "source": [
        "# Carregar o tokenizador do BERT\n",
        "tokenizer = BertTokenizer.from_pretrained('bert-base-uncased')"
      ],
      "metadata": {
        "id": "3EDTYv_SAD6c"
      },
      "execution_count": null,
      "outputs": []
    },
    {
      "cell_type": "code",
      "source": [
        "# Definir uma frase de exemplo\n",
        "text = \"I love this book!\""
      ],
      "metadata": {
        "id": "_e3yUwF5AGCB"
      },
      "execution_count": null,
      "outputs": []
    },
    {
      "cell_type": "code",
      "source": [
        "# Tokenizar a frase e converter para uma sequência de IDs\n",
        "inputs = tokenizer.encode(text, return_tensors=\"pt\")"
      ],
      "metadata": {
        "id": "jFrbgSTNANqk"
      },
      "execution_count": null,
      "outputs": []
    },
    {
      "cell_type": "code",
      "source": [
        "# Inicializar o modelo BERT\n",
        "model = BertModel.from_pretrained('bert-base-uncased')\n",
        "model"
      ],
      "metadata": {
        "id": "RNWuY1WpANtQ"
      },
      "execution_count": null,
      "outputs": []
    },
    {
      "cell_type": "code",
      "source": [
        "# Fazer a previsão de sentimento\n",
        "with torch.no_grad():\n",
        "    outputs = model(inputs)"
      ],
      "metadata": {
        "id": "t9RgdXExANv3"
      },
      "execution_count": null,
      "outputs": []
    },
    {
      "cell_type": "code",
      "source": [
        "# Análise de Sentimento\n",
        "classifier = pipeline('sentiment-analysis')\n",
        "sentimentos = classifier(\"inputs\")\n",
        "\n",
        "# Visualizando os sentimentos LLM\n",
        "print()\n",
        "print(sentimentos)"
      ],
      "metadata": {
        "id": "VDgi98QGBlro"
      },
      "execution_count": null,
      "outputs": []
    },
    {
      "cell_type": "code",
      "source": [
        "# Obter a saída do último token de classificação\n",
        "output = outputs.last_hidden_state[:, 0, :].squeeze()"
      ],
      "metadata": {
        "id": "67J6oj22ANyb"
      },
      "execution_count": null,
      "outputs": []
    },
    {
      "cell_type": "code",
      "source": [
        "# Pegar a probabilidade do token de classificação mais provável\n",
        "probability = F.softmax(output, dim=0)"
      ],
      "metadata": {
        "id": "mudrytBWATQv"
      },
      "execution_count": null,
      "outputs": []
    },
    {
      "cell_type": "code",
      "source": [
        "# Pegar o índice do token de classificação mais provável\n",
        "predicted_index = torch.argmax(probability, dim=0).tolist()\n",
        "predicted_index"
      ],
      "metadata": {
        "id": "g7BforprAVPH"
      },
      "execution_count": null,
      "outputs": []
    },
    {
      "cell_type": "markdown",
      "source": [
        "# **4) Modelo LLM - BART Clusterização**"
      ],
      "metadata": {
        "id": "kUqsv0oaByrc"
      }
    },
    {
      "cell_type": "code",
      "source": [
        "import torch\n",
        "import numpy as np\n",
        "from sklearn.cluster import KMeans\n",
        "from sklearn.metrics import pairwise_distances_argmin_min\n",
        "from transformers import BertTokenizer, BertModel"
      ],
      "metadata": {
        "id": "jDL8ZNsDB4Cq"
      },
      "execution_count": null,
      "outputs": []
    },
    {
      "cell_type": "code",
      "source": [
        "# Função para obter os embeddings BERT de um texto\n",
        "def get_bert_embeddings(texts):\n",
        "    tokenizer = BertTokenizer.from_pretrained('bert-base-uncased')\n",
        "    model = BertModel.from_pretrained('bert-base-uncased')\n",
        "\n",
        "    embeddings = []\n",
        "    for text in texts:\n",
        "        input_ids = torch.tensor(tokenizer.encode(text, add_special_tokens=True)).unsqueeze(0)\n",
        "        with torch.no_grad():\n",
        "            outputs = model(input_ids)\n",
        "            last_hidden_states = outputs[0]\n",
        "            pooled_output = last_hidden_states.mean(axis=1).squeeze()\n",
        "            embeddings.append(pooled_output.numpy())\n",
        "\n",
        "    return np.array(embeddings)"
      ],
      "metadata": {
        "id": "eLjRADHdB9PA"
      },
      "execution_count": null,
      "outputs": []
    },
    {
      "cell_type": "code",
      "source": [
        "# Dados de exemplo (textos)\n",
        "texts = [\n",
        "    \"O Brasil é um país localizado na América do Sul.\",\n",
        "    \"Paris é a capital da França.\",\n",
        "    \"O futebol é um esporte popular em todo o mundo.\",\n",
        "    \"Python é uma linguagem de programação poderosa.\",\n",
        "    \"A Terra gira em torno do Sol.\"\n",
        "]"
      ],
      "metadata": {
        "id": "8Vxd0LMmB9R1"
      },
      "execution_count": null,
      "outputs": []
    },
    {
      "cell_type": "code",
      "source": [
        "# Obter embeddings BERT para os textos\n",
        "embeddings2 = get_bert_embeddings(texts)"
      ],
      "metadata": {
        "id": "QVnzPWX0B9Ue"
      },
      "execution_count": null,
      "outputs": []
    },
    {
      "cell_type": "code",
      "source": [
        "# Lista para armazenar os valores de inércia\n",
        "inertia = []\n",
        "\n",
        "# Testar diferentes valores de k\n",
        "for k in range(1, 6):\n",
        "    kmeans = KMeans(n_clusters=k)\n",
        "    kmeans.fit(embeddings2)\n",
        "    inertia.append(kmeans.inertia_)\n",
        "\n",
        "# Plotar o gráfico Elbow\n",
        "plt.plot(range(1, 6), inertia, marker='o')\n",
        "plt.xlabel('Número de clusters')\n",
        "plt.ylabel('Inércia')\n",
        "plt.title('Método Elbow para encontrar o valor de k')\n",
        "plt.show()"
      ],
      "metadata": {
        "id": "M-i4QTQqCsyP"
      },
      "execution_count": null,
      "outputs": []
    },
    {
      "cell_type": "code",
      "source": [
        "# Modelo kmeans\n",
        "\n",
        "# Determinar o valor de k usando o método Elbow\n",
        "optimal_k = 2 # Este valor é o que você encontrou como ideal no gráfico Elbow\n",
        "\n",
        "# Criar e ajustar o modelo K-means com o valor de k ideal\n",
        "kmeans = KMeans(n_clusters=optimal_k)\n",
        "kmeans.fit(embeddings2)"
      ],
      "metadata": {
        "id": "h1YsQSUpCPjY"
      },
      "execution_count": null,
      "outputs": []
    },
    {
      "cell_type": "code",
      "source": [
        "# Obter os rótulos dos clusters para cada amostra\n",
        "cluster_labels = kmeans.predict(embeddings2)\n",
        "cluster_labels"
      ],
      "metadata": {
        "id": "hgUVLpDLDErs"
      },
      "execution_count": null,
      "outputs": []
    },
    {
      "cell_type": "code",
      "source": [
        "# Obter os índices dos clusters para cada texto e os centroides dos clusters\n",
        "cluster_indices, _ = pairwise_distances_argmin_min(kmeans.cluster_centers_, embeddings2)"
      ],
      "metadata": {
        "id": "Q-c0gO99CSWz"
      },
      "execution_count": null,
      "outputs": []
    },
    {
      "cell_type": "code",
      "source": [
        "# Obter os índices dos clusters para cada texto e os centroides dos clusters\n",
        "cluster_indices = kmeans.predict(embeddings2)\n",
        "\n",
        "# Imprimir os resultados\n",
        "for i, text in enumerate(texts):\n",
        "    print(f\"Texto: {text} - Cluster: {cluster_indices[i]}\")\n"
      ],
      "metadata": {
        "id": "KQa4QvOMCXTO"
      },
      "execution_count": null,
      "outputs": []
    },
    {
      "cell_type": "code",
      "source": [
        "# Modelo PCA\n",
        "pca = PCA(n_components=2)\n",
        "\n",
        "# Treinamento modelo\n",
        "embeddings_2d = pca.fit_transform(embeddings2)\n",
        "\n",
        "# Visualizando modelo\n",
        "pca"
      ],
      "metadata": {
        "id": "-8V_CTBJDJdX"
      },
      "execution_count": null,
      "outputs": []
    },
    {
      "cell_type": "code",
      "source": [
        "# Visualizando o gráfico\n",
        "plt.figure(figsize=(8, 6))\n",
        "for i in range(optimal_k):\n",
        "    plt.scatter(embeddings_2d[cluster_labels == i, 0],\n",
        "                embeddings_2d[cluster_labels == i, 1],\n",
        "                label=f'Cluster {i}')\n",
        "plt.title('Clusters LLM - BART')\n",
        "plt.xlabel('Componente Principal 1')\n",
        "plt.ylabel('Componente Principal 2')\n",
        "plt.legend()\n",
        "plt.show()"
      ],
      "metadata": {
        "id": "a5xrPK0BDTYG"
      },
      "execution_count": null,
      "outputs": []
    }
  ]
}